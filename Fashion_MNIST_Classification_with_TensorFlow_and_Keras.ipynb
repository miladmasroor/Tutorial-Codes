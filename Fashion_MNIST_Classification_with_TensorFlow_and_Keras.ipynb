{
  "cells": [
    {
      "cell_type": "markdown",
      "source": [
        "**Description:**\n",
        "\n",
        "This Python code is an implementation of a deep learning model for classifying images from the Fashion MNIST dataset using TensorFlow and Keras. The Fashion MNIST dataset contains grayscale images of various clothing items, each belonging to one of ten classes. Here's a brief overview of what the code does:\n",
        "\n",
        "\n",
        "\n",
        "1.   Imports necessary libraries, including TensorFlow, Keras, and other dependencies.\n",
        "2.   Loads the Fashion MNIST dataset, which consists of training and testing images and their corresponding labels.\n",
        "1.   Normalizes the pixel values of the images to the range [0, 1].\n",
        "2.   Defines a neural network model using Keras with a Flatten layer, Dropout layer, and two dense layers.\n",
        "1.   Specifies the Adam optimizer with a learning rate schedule.\n",
        "2.   Sets up callbacks for learning rate scheduling and TensorBoard for monitoring training.\n",
        "1.   Trains the model on the training data, recording training and validation accuracy and loss.\n",
        "2.   Plots training and validation accuracy and loss over epochs.\n",
        "1.   Evaluates the model on the test dataset and prints the test accuracy.\n",
        "2.   Defines a probability model and uses it to make predictions on test images, showing the predicted class and actual label for a specific example.\n",
        "\n",
        "This code provides a complete pipeline for building, training, and evaluating a deep learning model for Fashion MNIST image classification.\n",
        "\n",
        "\n",
        "\n",
        "\n",
        "\n",
        "\n",
        "\n"
      ],
      "metadata": {
        "id": "belZvW0oUK8S"
      }
    },
    {
      "cell_type": "code",
      "execution_count": null,
      "metadata": {
        "id": "m5YmA2ilRWvA"
      },
      "outputs": [],
      "source": [
        "import tensorflow as tf\n",
        "from tensorflow.keras.callbacks import LearningRateScheduler\n",
        "from tensorflow.keras.callbacks import TensorBoard\n",
        "import os\n",
        "import datetime\n",
        "import numpy as np\n",
        "import matplotlib.pyplot as plt\n",
        "from keras.models import Sequential\n",
        "from keras.layers import Dense, Flatten , Dropout\n",
        "from keras.optimizers import Adam\n",
        "%matplotlib inline"
      ]
    },
    {
      "cell_type": "markdown",
      "metadata": {
        "id": "twE-1kG7RWvC"
      },
      "source": [
        "# Import the Fashion MNIST dataset"
      ]
    },
    {
      "cell_type": "code",
      "execution_count": null,
      "metadata": {
        "id": "Ut9voq-rRWvK"
      },
      "outputs": [],
      "source": [
        "fashion_mnist = tf.keras.datasets.fashion_mnist\n",
        "\n",
        "(train_images, train_labels), (test_images, test_labels) = fashion_mnist.load_data()"
      ]
    },
    {
      "cell_type": "code",
      "execution_count": null,
      "metadata": {
        "id": "kdc31_-rRWvK"
      },
      "outputs": [],
      "source": [
        "class_names = ['T-shirt/top', 'Trouser', 'Pullover', 'Dress', 'Coat',\n",
        "               'Sandal', 'Shirt', 'Sneaker', 'Bag', 'Ankle boot']"
      ]
    },
    {
      "cell_type": "code",
      "execution_count": null,
      "metadata": {
        "id": "5TBWfmRdRWvK",
        "outputId": "07c9da0e-fb1b-4280-c28b-bce0d7439c1c"
      },
      "outputs": [
        {
          "data": {
            "text/plain": [
              "(60000, 28, 28)"
            ]
          },
          "execution_count": 4,
          "metadata": {},
          "output_type": "execute_result"
        }
      ],
      "source": [
        "train_images.shape"
      ]
    },
    {
      "cell_type": "code",
      "execution_count": null,
      "metadata": {
        "id": "eQCfLDwXRWvL",
        "outputId": "31d95d9f-e540-470f-e695-783e2815bd02"
      },
      "outputs": [
        {
          "data": {
            "text/plain": [
              "60000"
            ]
          },
          "execution_count": 5,
          "metadata": {},
          "output_type": "execute_result"
        }
      ],
      "source": [
        "len(train_labels)"
      ]
    },
    {
      "cell_type": "code",
      "execution_count": null,
      "metadata": {
        "id": "SYpGvdk_RWvL",
        "outputId": "034f9d7c-5a37-4359-9a33-0fdc60d8c312"
      },
      "outputs": [
        {
          "data": {
            "text/plain": [
              "(10000, 28, 28)"
            ]
          },
          "execution_count": 6,
          "metadata": {},
          "output_type": "execute_result"
        }
      ],
      "source": [
        "test_images.shape"
      ]
    },
    {
      "cell_type": "code",
      "execution_count": null,
      "metadata": {
        "id": "BM7Ba4oSRWvL",
        "outputId": "42d92049-c076-4b83-f878-669c185385ef"
      },
      "outputs": [
        {
          "data": {
            "text/plain": [
              "10000"
            ]
          },
          "execution_count": 7,
          "metadata": {},
          "output_type": "execute_result"
        }
      ],
      "source": [
        "len(test_labels)"
      ]
    },
    {
      "cell_type": "code",
      "execution_count": null,
      "metadata": {
        "id": "wzIT8Yf7RWvM",
        "outputId": "a9991cbe-334a-42a0-ba9c-aeab54f98d28"
      },
      "outputs": [
        {
          "data": {
            "image/png": "[encoded data removed]",
            "text/plain": [
              "<Figure size 432x288 with 2 Axes>"
            ]
          },
          "metadata": {
            "needs_background": "light"
          },
          "output_type": "display_data"
        }
      ],
      "source": [
        "plt.figure()\n",
        "plt.imshow(train_images[0])\n",
        "plt.colorbar()\n",
        "plt.grid(False)\n",
        "plt.show()"
      ]
    },
    {
      "cell_type": "code",
      "execution_count": null,
      "metadata": {
        "id": "m0DdeslrRWvM"
      },
      "outputs": [],
      "source": [
        "train_images = train_images / 255.0\n",
        "\n",
        "test_images = test_images / 255.0"
      ]
    },
    {
      "cell_type": "markdown",
      "metadata": {
        "id": "VbAKoF4KRWvM"
      },
      "source": [
        "# Build the model"
      ]
    },
    {
      "cell_type": "code",
      "execution_count": null,
      "metadata": {
        "id": "pKo3ycpfRWvM"
      },
      "outputs": [],
      "source": [
        "model = Sequential()\n",
        "model.add(Flatten(input_shape=(28, 28)))\n",
        "model.add(Dropout(0.5))\n",
        "model.add(Dense(128, activation='relu'))\n",
        "model.add(Dense(10))"
      ]
    },
    {
      "cell_type": "code",
      "execution_count": null,
      "metadata": {
        "id": "xLhb4hXaRWvM",
        "outputId": "dc2f8b85-ac1b-4cfc-e7fc-111e39afcbf2"
      },
      "outputs": [
        {
          "name": "stdout",
          "output_type": "stream",
          "text": [
            "Model: \"sequential\"\n",
            "_________________________________________________________________\n",
            "Layer (type)                 Output Shape              Param #   \n",
            "=================================================================\n",
            "flatten (Flatten)            (None, 784)               0         \n",
            "_________________________________________________________________\n",
            "dropout (Dropout)            (None, 784)               0         \n",
            "_________________________________________________________________\n",
            "dense (Dense)                (None, 128)               100480    \n",
            "_________________________________________________________________\n",
            "dense_1 (Dense)              (None, 10)                1290      \n",
            "=================================================================\n",
            "Total params: 101,770\n",
            "Trainable params: 101,770\n",
            "Non-trainable params: 0\n",
            "_________________________________________________________________\n"
          ]
        }
      ],
      "source": [
        "model.summary()"
      ]
    },
    {
      "cell_type": "code",
      "execution_count": null,
      "metadata": {
        "id": "A1d847EvRWvN"
      },
      "outputs": [],
      "source": [
        "optimizer = Adam(lr=0.001)\n",
        "model.compile(optimizer, loss=tf.keras.losses.SparseCategoricalCrossentropy(from_logits=True), metrics=['accuracy'])"
      ]
    },
    {
      "cell_type": "code",
      "execution_count": null,
      "metadata": {
        "id": "oZZNiOdHRWvN"
      },
      "outputs": [],
      "source": [
        "def scheduler (epoch):\n",
        "    if epoch < 2:\n",
        "        return 0.001\n",
        "    elif epoch < 6:\n",
        "        return 0.0001\n",
        "    else:\n",
        "        return 0.00001\n",
        "\n",
        "learning_rate_scheduler = LearningRateScheduler(scheduler , verbose = 1)"
      ]
    },
    {
      "cell_type": "code",
      "execution_count": null,
      "metadata": {
        "id": "tkYu072NRWvN",
        "outputId": "69079799-e53c-49e0-80d3-061bd37ab5ca"
      },
      "outputs": [
        {
          "name": "stdout",
          "output_type": "stream",
          "text": [
            "logDir: E:\\SRU-deeplearning-workshop-master\\homework\\Fashion_MNIST_log\\20210319-211955\n"
          ]
        }
      ],
      "source": [
        "logDir = \"E:\\\\SRU-deeplearning-workshop-master\\\\homework\\\\Fashion_MNIST_log\\\\\" + datetime.datetime.now().strftime(\"%Y%m%d-%H%M%S\")\n",
        "print(\"logDir:\" ,logDir )\n",
        "tensorboard_callback = TensorBoard(logDir , histogram_freq = 1)"
      ]
    },
    {
      "cell_type": "code",
      "execution_count": null,
      "metadata": {
        "id": "ZNzwPNzvRWvN",
        "outputId": "ca4a1c4a-8fc3-4bf4-c2a4-2ed76ab2fa89"
      },
      "outputs": [
        {
          "name": "stdout",
          "output_type": "stream",
          "text": [
            "\n",
            "Epoch 00001: LearningRateScheduler reducing learning rate to 0.001.\n",
            "Epoch 1/50\n",
            "  2/924 [..............................] - ETA: 3:12 - loss: 0.3510 - accuracy: 0.8692WARNING:tensorflow:Callbacks method `on_train_batch_end` is slow compared to the batch time (batch time: 0.0020s vs `on_train_batch_end` time: 0.4133s). Check your callbacks.\n",
            "924/924 [==============================] - 2s 2ms/step - loss: 0.3635 - accuracy: 0.8637 - val_loss: 0.3544 - val_accuracy: 0.8699\n",
            "\n",
            "Epoch 00002: LearningRateScheduler reducing learning rate to 0.001.\n",
            "Epoch 2/50\n",
            "924/924 [==============================] - 2s 2ms/step - loss: 0.3623 - accuracy: 0.8636 - val_loss: 0.3449 - val_accuracy: 0.8749\n",
            "\n",
            "Epoch 00003: LearningRateScheduler reducing learning rate to 0.0001.\n",
            "Epoch 3/50\n",
            "924/924 [==============================] - 2s 2ms/step - loss: 0.3435 - accuracy: 0.8718 - val_loss: 0.3345 - val_accuracy: 0.8771\n",
            "\n",
            "Epoch 00004: LearningRateScheduler reducing learning rate to 0.0001.\n",
            "Epoch 4/50\n",
            "924/924 [==============================] - 2s 2ms/step - loss: 0.3370 - accuracy: 0.8735 - val_loss: 0.3332 - val_accuracy: 0.8778\n",
            "\n",
            "Epoch 00005: LearningRateScheduler reducing learning rate to 0.0001.\n",
            "Epoch 5/50\n",
            "924/924 [==============================] - 2s 2ms/step - loss: 0.3351 - accuracy: 0.8740 - val_loss: 0.3324 - val_accuracy: 0.8780\n",
            "\n",
            "Epoch 00006: LearningRateScheduler reducing learning rate to 0.0001.\n",
            "Epoch 6/50\n",
            "924/924 [==============================] - 2s 2ms/step - loss: 0.3342 - accuracy: 0.8754 - val_loss: 0.3304 - val_accuracy: 0.8789\n",
            "\n",
            "Epoch 00007: LearningRateScheduler reducing learning rate to 1e-05.\n",
            "Epoch 7/50\n",
            "924/924 [==============================] - 2s 2ms/step - loss: 0.3337 - accuracy: 0.8752 - val_loss: 0.3309 - val_accuracy: 0.8787\n",
            "\n",
            "Epoch 00008: LearningRateScheduler reducing learning rate to 1e-05.\n",
            "Epoch 8/50\n",
            "924/924 [==============================] - 2s 2ms/step - loss: 0.3326 - accuracy: 0.8761 - val_loss: 0.3305 - val_accuracy: 0.8782\n",
            "\n",
            "Epoch 00009: LearningRateScheduler reducing learning rate to 1e-05.\n",
            "Epoch 9/50\n",
            "924/924 [==============================] - 3s 3ms/step - loss: 0.3321 - accuracy: 0.8752 - val_loss: 0.3305 - val_accuracy: 0.8791\n",
            "\n",
            "Epoch 00010: LearningRateScheduler reducing learning rate to 1e-05.\n",
            "Epoch 10/50\n",
            "924/924 [==============================] - 2s 3ms/step - loss: 0.3321 - accuracy: 0.8759 - val_loss: 0.3307 - val_accuracy: 0.8790\n",
            "\n",
            "Epoch 00011: LearningRateScheduler reducing learning rate to 1e-05.\n",
            "Epoch 11/50\n",
            "924/924 [==============================] - 3s 3ms/step - loss: 0.3342 - accuracy: 0.8749 - val_loss: 0.3307 - val_accuracy: 0.8790\n",
            "\n",
            "Epoch 00012: LearningRateScheduler reducing learning rate to 1e-05.\n",
            "Epoch 12/50\n",
            "924/924 [==============================] - 3s 4ms/step - loss: 0.3328 - accuracy: 0.8753 - val_loss: 0.3304 - val_accuracy: 0.8785\n",
            "\n",
            "Epoch 00013: LearningRateScheduler reducing learning rate to 1e-05.\n",
            "Epoch 13/50\n",
            "924/924 [==============================] - 3s 4ms/step - loss: 0.3331 - accuracy: 0.8757 - val_loss: 0.3305 - val_accuracy: 0.8786\n",
            "\n",
            "Epoch 00014: LearningRateScheduler reducing learning rate to 1e-05.\n",
            "Epoch 14/50\n",
            "924/924 [==============================] - 3s 3ms/step - loss: 0.3338 - accuracy: 0.8748 - val_loss: 0.3300 - val_accuracy: 0.8784\n",
            "\n",
            "Epoch 00015: LearningRateScheduler reducing learning rate to 1e-05.\n",
            "Epoch 15/50\n",
            "924/924 [==============================] - 2s 2ms/step - loss: 0.3325 - accuracy: 0.8752 - val_loss: 0.3306 - val_accuracy: 0.8784\n",
            "\n",
            "Epoch 00016: LearningRateScheduler reducing learning rate to 1e-05.\n",
            "Epoch 16/50\n",
            "924/924 [==============================] - 3s 3ms/step - loss: 0.3302 - accuracy: 0.8763 - val_loss: 0.3302 - val_accuracy: 0.8794\n",
            "\n",
            "Epoch 00017: LearningRateScheduler reducing learning rate to 1e-05.\n",
            "Epoch 17/50\n",
            "924/924 [==============================] - 2s 3ms/step - loss: 0.3292 - accuracy: 0.8768 - val_loss: 0.3299 - val_accuracy: 0.8787\n",
            "\n",
            "Epoch 00018: LearningRateScheduler reducing learning rate to 1e-05.\n",
            "Epoch 18/50\n",
            "924/924 [==============================] - 2s 2ms/step - loss: 0.3307 - accuracy: 0.8753 - val_loss: 0.3298 - val_accuracy: 0.8790\n",
            "\n",
            "Epoch 00019: LearningRateScheduler reducing learning rate to 1e-05.\n",
            "Epoch 19/50\n",
            "924/924 [==============================] - 2s 2ms/step - loss: 0.3327 - accuracy: 0.8745 - val_loss: 0.3299 - val_accuracy: 0.8788\n",
            "\n",
            "Epoch 00020: LearningRateScheduler reducing learning rate to 1e-05.\n",
            "Epoch 20/50\n",
            "924/924 [==============================] - 2s 2ms/step - loss: 0.3315 - accuracy: 0.8760 - val_loss: 0.3301 - val_accuracy: 0.8791\n",
            "\n",
            "Epoch 00021: LearningRateScheduler reducing learning rate to 1e-05.\n",
            "Epoch 21/50\n",
            "924/924 [==============================] - 2s 2ms/step - loss: 0.3313 - accuracy: 0.8757 - val_loss: 0.3296 - val_accuracy: 0.8793\n",
            "\n",
            "Epoch 00022: LearningRateScheduler reducing learning rate to 1e-05.\n",
            "Epoch 22/50\n",
            "924/924 [==============================] - 2s 2ms/step - loss: 0.3294 - accuracy: 0.8765 - val_loss: 0.3288 - val_accuracy: 0.8788\n",
            "\n",
            "Epoch 00023: LearningRateScheduler reducing learning rate to 1e-05.\n",
            "Epoch 23/50\n",
            "924/924 [==============================] - 2s 2ms/step - loss: 0.3294 - accuracy: 0.8757 - val_loss: 0.3294 - val_accuracy: 0.8790\n",
            "\n",
            "Epoch 00024: LearningRateScheduler reducing learning rate to 1e-05.\n",
            "Epoch 24/50\n",
            "924/924 [==============================] - 2s 2ms/step - loss: 0.3304 - accuracy: 0.8766 - val_loss: 0.3292 - val_accuracy: 0.8791\n",
            "\n",
            "Epoch 00025: LearningRateScheduler reducing learning rate to 1e-05.\n",
            "Epoch 25/50\n",
            "924/924 [==============================] - 2s 3ms/step - loss: 0.3304 - accuracy: 0.8771 - val_loss: 0.3294 - val_accuracy: 0.8785\n",
            "\n",
            "Epoch 00026: LearningRateScheduler reducing learning rate to 1e-05.\n",
            "Epoch 26/50\n",
            "924/924 [==============================] - 4s 4ms/step - loss: 0.3296 - accuracy: 0.8771 - val_loss: 0.3292 - val_accuracy: 0.8785\n",
            "\n",
            "Epoch 00027: LearningRateScheduler reducing learning rate to 1e-05.\n",
            "Epoch 27/50\n",
            "924/924 [==============================] - 3s 4ms/step - loss: 0.3277 - accuracy: 0.8771 - val_loss: 0.3294 - val_accuracy: 0.8790\n",
            "\n",
            "Epoch 00028: LearningRateScheduler reducing learning rate to 1e-05.\n",
            "Epoch 28/50\n",
            "924/924 [==============================] - 2s 2ms/step - loss: 0.3289 - accuracy: 0.8777 - val_loss: 0.3293 - val_accuracy: 0.8785\n",
            "\n",
            "Epoch 00029: LearningRateScheduler reducing learning rate to 1e-05.\n",
            "Epoch 29/50\n",
            "924/924 [==============================] - 2s 2ms/step - loss: 0.3275 - accuracy: 0.8785 - val_loss: 0.3288 - val_accuracy: 0.8786\n",
            "\n",
            "Epoch 00030: LearningRateScheduler reducing learning rate to 1e-05.\n",
            "Epoch 30/50\n",
            "924/924 [==============================] - 2s 2ms/step - loss: 0.3301 - accuracy: 0.8763 - val_loss: 0.3289 - val_accuracy: 0.8783\n",
            "\n",
            "Epoch 00031: LearningRateScheduler reducing learning rate to 1e-05.\n",
            "Epoch 31/50\n",
            "924/924 [==============================] - 2s 2ms/step - loss: 0.3294 - accuracy: 0.8751 - val_loss: 0.3284 - val_accuracy: 0.8793\n",
            "\n",
            "Epoch 00032: LearningRateScheduler reducing learning rate to 1e-05.\n",
            "Epoch 32/50\n",
            "924/924 [==============================] - 3s 3ms/step - loss: 0.3301 - accuracy: 0.8769 - val_loss: 0.3285 - val_accuracy: 0.8795\n",
            "\n",
            "Epoch 00033: LearningRateScheduler reducing learning rate to 1e-05.\n",
            "Epoch 33/50\n",
            "924/924 [==============================] - 3s 3ms/step - loss: 0.3314 - accuracy: 0.8757 - val_loss: 0.3289 - val_accuracy: 0.8790\n",
            "\n",
            "Epoch 00034: LearningRateScheduler reducing learning rate to 1e-05.\n",
            "Epoch 34/50\n",
            "924/924 [==============================] - 3s 3ms/step - loss: 0.3276 - accuracy: 0.8772 - val_loss: 0.3287 - val_accuracy: 0.8794\n",
            "\n",
            "Epoch 00035: LearningRateScheduler reducing learning rate to 1e-05.\n",
            "Epoch 35/50\n",
            "924/924 [==============================] - 3s 3ms/step - loss: 0.3291 - accuracy: 0.8766 - val_loss: 0.3286 - val_accuracy: 0.8790\n",
            "\n",
            "Epoch 00036: LearningRateScheduler reducing learning rate to 1e-05.\n",
            "Epoch 36/50\n",
            "924/924 [==============================] - 2s 3ms/step - loss: 0.3274 - accuracy: 0.8771 - val_loss: 0.3285 - val_accuracy: 0.8791\n",
            "\n",
            "Epoch 00037: LearningRateScheduler reducing learning rate to 1e-05.\n",
            "Epoch 37/50\n",
            "924/924 [==============================] - 2s 3ms/step - loss: 0.3301 - accuracy: 0.8753 - val_loss: 0.3286 - val_accuracy: 0.8789\n",
            "\n",
            "Epoch 00038: LearningRateScheduler reducing learning rate to 1e-05.\n",
            "Epoch 38/50\n",
            "924/924 [==============================] - 2s 2ms/step - loss: 0.3260 - accuracy: 0.8783 - val_loss: 0.3286 - val_accuracy: 0.8795\n",
            "\n",
            "Epoch 00039: LearningRateScheduler reducing learning rate to 1e-05.\n",
            "Epoch 39/50\n",
            "924/924 [==============================] - 2s 2ms/step - loss: 0.3246 - accuracy: 0.8778 - val_loss: 0.3283 - val_accuracy: 0.8794\n",
            "\n",
            "Epoch 00040: LearningRateScheduler reducing learning rate to 1e-05.\n",
            "Epoch 40/50\n",
            "924/924 [==============================] - 3s 3ms/step - loss: 0.3276 - accuracy: 0.8771 - val_loss: 0.3286 - val_accuracy: 0.8786\n",
            "\n",
            "Epoch 00041: LearningRateScheduler reducing learning rate to 1e-05.\n",
            "Epoch 41/50\n",
            "924/924 [==============================] - 2s 2ms/step - loss: 0.3263 - accuracy: 0.8763 - val_loss: 0.3283 - val_accuracy: 0.8789\n",
            "\n",
            "Epoch 00042: LearningRateScheduler reducing learning rate to 1e-05.\n",
            "Epoch 42/50\n",
            "924/924 [==============================] - 2s 3ms/step - loss: 0.3267 - accuracy: 0.8773 - val_loss: 0.3278 - val_accuracy: 0.8795\n",
            "\n",
            "Epoch 00043: LearningRateScheduler reducing learning rate to 1e-05.\n",
            "Epoch 43/50\n",
            "924/924 [==============================] - 2s 2ms/step - loss: 0.3277 - accuracy: 0.8773 - val_loss: 0.3281 - val_accuracy: 0.8798\n",
            "\n",
            "Epoch 00044: LearningRateScheduler reducing learning rate to 1e-05.\n",
            "Epoch 44/50\n",
            "924/924 [==============================] - 2s 3ms/step - loss: 0.3287 - accuracy: 0.8759 - val_loss: 0.3276 - val_accuracy: 0.8799\n",
            "\n",
            "Epoch 00045: LearningRateScheduler reducing learning rate to 1e-05.\n",
            "Epoch 45/50\n",
            "924/924 [==============================] - 2s 2ms/step - loss: 0.3250 - accuracy: 0.8769 - val_loss: 0.3281 - val_accuracy: 0.8791\n",
            "\n",
            "Epoch 00046: LearningRateScheduler reducing learning rate to 1e-05.\n",
            "Epoch 46/50\n",
            "924/924 [==============================] - 2s 3ms/step - loss: 0.3283 - accuracy: 0.8763 - val_loss: 0.3280 - val_accuracy: 0.8791\n",
            "\n",
            "Epoch 00047: LearningRateScheduler reducing learning rate to 1e-05.\n",
            "Epoch 47/50\n",
            "924/924 [==============================] - 2s 3ms/step - loss: 0.3264 - accuracy: 0.8781 - val_loss: 0.3273 - val_accuracy: 0.8788\n",
            "\n",
            "Epoch 00048: LearningRateScheduler reducing learning rate to 1e-05.\n",
            "Epoch 48/50\n",
            "924/924 [==============================] - 2s 3ms/step - loss: 0.3260 - accuracy: 0.8773 - val_loss: 0.3276 - val_accuracy: 0.8788\n",
            "\n",
            "Epoch 00049: LearningRateScheduler reducing learning rate to 1e-05.\n",
            "Epoch 49/50\n",
            "924/924 [==============================] - 2s 3ms/step - loss: 0.3267 - accuracy: 0.8777 - val_loss: 0.3275 - val_accuracy: 0.8799\n",
            "\n",
            "Epoch 00050: LearningRateScheduler reducing learning rate to 1e-05.\n",
            "Epoch 50/50\n",
            "924/924 [==============================] - 2s 3ms/step - loss: 0.3235 - accuracy: 0.8769 - val_loss: 0.3272 - val_accuracy: 0.8801\n"
          ]
        }
      ],
      "source": [
        "history = model.fit(train_images,\n",
        "                    train_labels,\n",
        "                    epochs=50 ,batch_size=65,\n",
        "                    validation_data = (test_images, test_labels),\n",
        "                   callbacks = [tensorboard_callback ,learning_rate_scheduler ])"
      ]
    },
    {
      "cell_type": "code",
      "execution_count": null,
      "metadata": {
        "id": "XUk4xEJ8RWvN",
        "outputId": "cb0f1d61-0aa6-4b05-804d-eb16e9d890f3"
      },
      "outputs": [
        {
          "data": {
            "image/png": "[encoded data removed]",
            "text/plain": [
              "<Figure size 432x288 with 1 Axes>"
            ]
          },
          "metadata": {
            "needs_background": "light"
          },
          "output_type": "display_data"
        },
        {
          "data": {
            "image/png": "[encoded data removed]",
            "text/plain": [
              "<Figure size 432x288 with 1 Axes>"
            ]
          },
          "metadata": {
            "needs_background": "light"
          },
          "output_type": "display_data"
        }
      ],
      "source": [
        "acc = history.history['accuracy']\n",
        "val_acc = history.history['val_accuracy']\n",
        "loss = history.history['loss']\n",
        "val_loss = history.history['val_loss']\n",
        "\n",
        "epochs = range(len(acc))\n",
        "\n",
        "plt.plot(epochs, acc, 'bo', label='Training acc')\n",
        "plt.plot(epochs, val_acc, 'b', label='Validation acc')\n",
        "plt.title('Training and validation accuracy')\n",
        "plt.legend()\n",
        "\n",
        "plt.figure()\n",
        "\n",
        "plt.plot(epochs, loss, 'bo', label='Training loss')\n",
        "plt.plot(epochs, val_loss, 'b', label='Validation loss')\n",
        "plt.title('Training and validation loss')\n",
        "plt.legend()\n",
        "\n",
        "plt.show()"
      ]
    },
    {
      "cell_type": "code",
      "execution_count": null,
      "metadata": {
        "id": "9jr40BK4RWvO",
        "outputId": "2d81b409-6312-4ebc-c53c-570f485230bc"
      },
      "outputs": [
        {
          "name": "stdout",
          "output_type": "stream",
          "text": [
            "313/313 - 0s - loss: 0.3272 - accuracy: 0.8801\n",
            "\n",
            "Test accuracy: 0.8801000118255615\n"
          ]
        }
      ],
      "source": [
        "test_loss, test_acc = model.evaluate(test_images,  test_labels, verbose=2)\n",
        "\n",
        "print('\\nTest accuracy:', test_acc)"
      ]
    },
    {
      "cell_type": "code",
      "execution_count": null,
      "metadata": {
        "id": "fl3rl224RWvO"
      },
      "outputs": [],
      "source": [
        "probability_model = tf.keras.Sequential([model,\n",
        "                                         tf.keras.layers.Softmax()])"
      ]
    },
    {
      "cell_type": "code",
      "execution_count": null,
      "metadata": {
        "id": "EvNA8ZmcRWvO"
      },
      "outputs": [],
      "source": [
        "predictions = probability_model.predict(test_images)"
      ]
    },
    {
      "cell_type": "code",
      "execution_count": null,
      "metadata": {
        "id": "tzRDGUoXRWvO",
        "outputId": "ce243eae-fae3-46e9-ba4a-a5048d0d4128"
      },
      "outputs": [
        {
          "name": "stdout",
          "output_type": "stream",
          "text": [
            "2\n",
            "2\n"
          ]
        }
      ],
      "source": [
        "predictions[1]\n",
        "print(np.argmax(predictions[1]))\n",
        "print(test_labels[1])"
      ]
    }
  ],
  "metadata": {
    "kernelspec": {
      "display_name": "Python 3",
      "language": "python",
      "name": "python3"
    },
    "language_info": {
      "codemirror_mode": {
        "name": "ipython",
        "version": 3
      },
      "file_extension": ".py",
      "mimetype": "text/x-python",
      "name": "python",
      "nbconvert_exporter": "python",
      "pygments_lexer": "ipython3",
      "version": "3.8.3"
    },
    "colab": {
      "provenance": []
    }
  },
  "nbformat": 4,
  "nbformat_minor": 0
}